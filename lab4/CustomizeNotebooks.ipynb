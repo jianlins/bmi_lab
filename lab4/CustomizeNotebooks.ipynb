{
 "cells": [
  {
   "cell_type": "markdown",
   "metadata": {},
   "source": [
    "# These setups are optional"
   ]
  },
  {
   "cell_type": "markdown",
   "metadata": {},
   "source": [
    "## Customize font and color\n",
    "The following cell will color your notebook narratives with bigger font and dark blue color, so that they can be easily distinguished from code cells."
   ]
  },
  {
   "cell_type": "code",
   "execution_count": 1,
   "metadata": {},
   "outputs": [
    {
     "name": "stdout",
     "output_type": "stream",
     "text": [
      "div.text_cell_render{color:#0a2d54;font-size: 13pt;}\r\n",
      "div.output_html, table.dataframe{font-size: 10pt;}\r\n"
     ]
    }
   ],
   "source": [
    "!rm -rf ~/.jupyter/custom \n",
    "!mkdir ~/.jupyter/custom\n",
    "!echo \"div.text_cell_render{color:#0a2d54;font-size: 13pt;}\\ndiv.output_html, table.dataframe{font-size: 10pt;}\" | tee ~/.jupyter/custom/custom.css"
   ]
  },
  {
   "cell_type": "markdown",
   "metadata": {},
   "source": [
    "## Install notebook extensions"
   ]
  },
  {
   "cell_type": "code",
   "execution_count": 21,
   "metadata": {
    "scrolled": true
   },
   "outputs": [
    {
     "name": "stdout",
     "output_type": "stream",
     "text": [
      "/home/jianlins/Downloads2\n",
      "git clone from https://github.com/ipython-contrib/jupyter_contrib_nbextensions.git\n"
     ]
    },
    {
     "name": "stderr",
     "output_type": "stream",
     "text": [
      "Cloning into 'jupyter_contrib_nbextensions'...\n",
      "Checking out files:  10% (48/441)   \r",
      "Checking out files:  11% (49/441)   \r",
      "Checking out files:  12% (53/441)   \r",
      "Checking out files:  13% (58/441)   \r",
      "Checking out files:  14% (62/441)   \r",
      "Checking out files:  15% (67/441)   \r",
      "Checking out files:  16% (71/441)   \r",
      "Checking out files:  17% (75/441)   \r",
      "Checking out files:  18% (80/441)   \r",
      "Checking out files:  19% (84/441)   \r",
      "Checking out files:  19% (86/441)   \r",
      "Checking out files:  20% (89/441)   \r",
      "Checking out files:  21% (93/441)   \r",
      "Checking out files:  22% (98/441)   \r",
      "Checking out files:  23% (102/441)   \r",
      "Checking out files:  24% (106/441)   \r",
      "Checking out files:  25% (111/441)   \r",
      "Checking out files:  26% (115/441)   \r",
      "Checking out files:  27% (120/441)   \r",
      "Checking out files:  28% (124/441)   \r",
      "Checking out files:  29% (128/441)   \r",
      "Checking out files:  30% (133/441)   \r",
      "Checking out files:  31% (137/441)   \r",
      "Checking out files:  32% (142/441)   \r",
      "Checking out files:  33% (146/441)   \r",
      "Checking out files:  34% (150/441)   \r",
      "Checking out files:  34% (153/441)   \r",
      "Checking out files:  35% (155/441)   \r",
      "Checking out files:  36% (159/441)   \r",
      "Checking out files:  37% (164/441)   \r",
      "Checking out files:  38% (168/441)   \r",
      "Checking out files:  39% (172/441)   \r",
      "Checking out files:  40% (177/441)   \r",
      "Checking out files:  41% (181/441)   \r",
      "Checking out files:  42% (186/441)   \r",
      "Checking out files:  43% (190/441)   \r",
      "Checking out files:  43% (191/441)   \r",
      "Checking out files:  44% (195/441)   \r",
      "Checking out files:  45% (199/441)   \r",
      "Checking out files:  46% (203/441)   \r",
      "Checking out files:  47% (208/441)   \r",
      "Checking out files:  48% (212/441)   \r",
      "Checking out files:  49% (217/441)   \r",
      "Checking out files:  50% (221/441)   \r",
      "Checking out files:  51% (225/441)   \r",
      "Checking out files:  52% (230/441)   \r",
      "Checking out files:  53% (234/441)   \r",
      "Checking out files:  54% (239/441)   \r",
      "Checking out files:  55% (243/441)   \r",
      "Checking out files:  55% (244/441)   \r",
      "Checking out files:  56% (247/441)   \r",
      "Checking out files:  57% (252/441)   \r",
      "Checking out files:  58% (256/441)   \r",
      "Checking out files:  59% (261/441)   \r",
      "Checking out files:  60% (265/441)   \r",
      "Checking out files:  61% (270/441)   \r",
      "Checking out files:  62% (274/441)   \r",
      "Checking out files:  63% (278/441)   \r",
      "Checking out files:  64% (283/441)   \r",
      "Checking out files:  65% (287/441)   \r",
      "Checking out files:  66% (292/441)   \r",
      "Checking out files:  67% (296/441)   \r",
      "Checking out files:  68% (300/441)   \r",
      "Checking out files:  69% (305/441)   \r",
      "Checking out files:  70% (309/441)   \r",
      "Checking out files:  71% (314/441)   \r",
      "Checking out files:  72% (318/441)   \r",
      "Checking out files:  73% (322/441)   \r",
      "Checking out files:  74% (327/441)   \r",
      "Checking out files:  74% (330/441)   \r",
      "Checking out files:  75% (331/441)   \r",
      "Checking out files:  76% (336/441)   \r",
      "Checking out files:  77% (340/441)   \r",
      "Checking out files:  78% (344/441)   \r",
      "Checking out files:  79% (349/441)   \r",
      "Checking out files:  80% (353/441)   \r",
      "Checking out files:  81% (358/441)   \r",
      "Checking out files:  82% (362/441)   \r",
      "Checking out files:  83% (367/441)   \r",
      "Checking out files:  84% (371/441)   \r",
      "Checking out files:  84% (373/441)   \r",
      "Checking out files:  85% (375/441)   \r",
      "Checking out files:  86% (380/441)   \r",
      "Checking out files:  87% (384/441)   \r",
      "Checking out files:  88% (389/441)   \r",
      "Checking out files:  89% (393/441)   \r",
      "Checking out files:  90% (397/441)   \r",
      "Checking out files:  91% (402/441)   \r",
      "Checking out files:  92% (406/441)   \r",
      "Checking out files:  93% (411/441)   \r",
      "Checking out files:  93% (414/441)   \r",
      "Checking out files:  94% (415/441)   \r",
      "Checking out files:  95% (419/441)   \r",
      "Checking out files:  96% (424/441)   \r",
      "Checking out files:  97% (428/441)   \r",
      "Checking out files:  98% (433/441)   \r",
      "Checking out files:  99% (437/441)   \r",
      "Checking out files: 100% (441/441)   \r",
      "Checking out files: 100% (441/441), done.\n"
     ]
    }
   ],
   "source": [
    "%%bash\n",
    "cd ~\n",
    "DIRECTORY='Downloads2'\n",
    "if [ ! -d \"$DIRECTORY\" ]; then\n",
    "    mkdir \"$DIRECTORY\"\n",
    "fi\n",
    "cd \"$DIRECTORY\"\n",
    "pwd\n",
    "if [ ! -d \"jupyter_contrib_nbextensions\" ]; then\n",
    "    echo 'git clone from https://github.com/ipython-contrib/jupyter_contrib_nbextensions.git'\n",
    "    git clone https://github.com/ipython-contrib/jupyter_contrib_nbextensions.git\n",
    "else\n",
    "    echo 'jupyter_contrib_nbextensions has been cloned. If you want to reclone it, please remove it first.'\n",
    "fi\n",
    "pip install -e jupyter_contrib_nbextensions\n",
    "jupyter contrib nbextension install --user"
   ]
  },
  {
   "cell_type": "markdown",
   "metadata": {},
   "source": [
    "Enable table of contents"
   ]
  },
  {
   "cell_type": "code",
   "execution_count": 23,
   "metadata": {},
   "outputs": [
    {
     "name": "stdout",
     "output_type": "stream",
     "text": [
      "Enabling notebook extension toc2/main...\n",
      "      - Validating: \u001b[32mOK\u001b[0m\n"
     ]
    }
   ],
   "source": [
    "!jupyter nbextension enable toc2/main"
   ]
  },
  {
   "cell_type": "markdown",
   "metadata": {},
   "source": [
    "Disable table of contents"
   ]
  },
  {
   "cell_type": "code",
   "execution_count": null,
   "metadata": {},
   "outputs": [],
   "source": [
    "!jupyter nbextension disable toc2/main"
   ]
  },
  {
   "cell_type": "markdown",
   "metadata": {},
   "source": [
    "Enable scratch pad"
   ]
  },
  {
   "cell_type": "code",
   "execution_count": null,
   "metadata": {},
   "outputs": [],
   "source": [
    "!jupyter nbextension enable nbextension-scratchpad/main"
   ]
  },
  {
   "cell_type": "markdown",
   "metadata": {},
   "source": [
    "Disable scratch pad"
   ]
  },
  {
   "cell_type": "code",
   "execution_count": 25,
   "metadata": {},
   "outputs": [
    {
     "name": "stdout",
     "output_type": "stream",
     "text": [
      "Disabling notebook extension nbextension-scratchpad/main...\r\n",
      "      - Validating: \u001b[32mOK\u001b[0m\r\n"
     ]
    }
   ],
   "source": [
    "!jupyter nbextension disable nbextension-scratchpad/main"
   ]
  },
  {
   "cell_type": "markdown",
   "metadata": {},
   "source": [
    "### You need to restart your server to make the enabled extensions work\n",
    "Got to\n",
    "\n",
    "https://decart.jupyter.med.utah.edu/hub/home\n",
    "\n",
    "Stop and start server"
   ]
  },
  {
   "cell_type": "code",
   "execution_count": null,
   "metadata": {},
   "outputs": [],
   "source": []
  }
 ],
 "metadata": {
  "kernelspec": {
   "display_name": "Python 3",
   "language": "python",
   "name": "python3"
  },
  "language_info": {
   "codemirror_mode": {
    "name": "ipython",
    "version": 3
   },
   "file_extension": ".py",
   "mimetype": "text/x-python",
   "name": "python",
   "nbconvert_exporter": "python",
   "pygments_lexer": "ipython3",
   "version": "3.5.5"
  },
  "toc": {
   "base_numbering": 1,
   "nav_menu": {},
   "number_sections": true,
   "sideBar": true,
   "skip_h1_title": false,
   "title_cell": "Table of Contents",
   "title_sidebar": "Contents",
   "toc_cell": false,
   "toc_position": {},
   "toc_section_display": true,
   "toc_window_display": false
  }
 },
 "nbformat": 4,
 "nbformat_minor": 2
}
