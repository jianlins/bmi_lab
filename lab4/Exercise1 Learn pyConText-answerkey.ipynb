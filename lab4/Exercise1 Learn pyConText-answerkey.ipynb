{
 "cells": [
  {
   "cell_type": "markdown",
   "metadata": {},
   "source": [
    "# How does the pyConText work\n",
    "\n",
    "Before we explain its processing mechanism, let's learn a few important concepts.\n",
    "## The information model\n",
    "\n",
    "The information model is an abstraction and representation of concepts (a formal definition can be found at [Terminology for Policy-Based Management](https://tools.ietf.org/html/rfc3198)). In pyConText, we set up a simple information model to represent the concepts we are looking for, which includes two components: targets and modifiers.\n",
    "\n",
    "* A **target** is the component of this IM to describe the core information of the concept. For instance, *\"breast cancer\"* in \"brother- breast CA.\"\n",
    "\n",
    "* A ** modifier** is the component to describe a certain property of a target. For instance, *\"brother\"* in \"brother- breast CA.\"\n",
    "\n",
    "\n",
    "**Question**: Why we don't represent this concept by just using *\"brother breast CA\"* without separating the target and the modifier?\n"
   ]
  },
  {
   "cell_type": "markdown",
   "metadata": {},
   "source": [
    "## Three types of predefined modifiers in pyConText\n",
    "\n",
    "* **Negation**: whether a target is negated or not, e.g. \"no *masses*\".\n",
    "* **Historical**: whether the concept is a historical (e.g., \"a remote history of *diverticulitis* in the 70s\"), present(e.g., \"found by EMS at scene *unresponsive*\"), or hypothetical (e.g., \"if the *pain* exacerbated\").  \n",
    "    Note: The meaning of \"present\" by a physician is different from what we normally say \"present.\"\n",
    "* **Nonpatient**: whether the concept is referring to the patient or not, e.g. \"Sister with *breast cancer*\"\n",
    "\n",
    "\n",
    "\n"
   ]
  },
  {
   "cell_type": "markdown",
   "metadata": {},
   "source": [
    "##  A typical pyConText rule\n",
    "The pyConText rule file can be found at [pneumonia_modifiers.yml](https://raw.githubusercontent.com/chapmanbe/pyConTextNLP/master/KB/pneumonia_modifiers.yml)  \n",
    "\n",
    "A typical pyConText rule has four elements,     For instance: \n",
    "\n",
    "![a screenshot of modifier rule file in yml format](img/rule.png)\n",
    "    \n"
   ]
  },
  {
   "cell_type": "markdown",
   "metadata": {},
   "source": [
    "The four elements are:\n",
    "\n",
    "1) The lexicon (e.g. \"no evidence of\")  \n",
    "2) The type (e.g. \"DEFINITE_NEGATED_EXISTENCE\")  \n",
    "3) The regular expression (optional) used to capture the literal in the text. If no regular expression is provided, a regular expression is generated literally from the literal.  \n",
    "4) The direction states to which direction that the modifier operates in the sentence: current valid values are: \"forward\", the item can modify objects following it in the sentence; \"backward\", the item can modify objects preceding it in the sentence; or \"bidirectional\", the item can modify objects preceding and following it in the sentence. "
   ]
  },
  {
   "cell_type": "markdown",
   "metadata": {},
   "source": [
    "## How does the pyConText work --- a simple explanation\n",
    "\n",
    "The pyConText will first *locate* a target term, and then *look around* it to see if there is any context clue that matches the context lexicon in the pyConText rule. If there is, pyConText will mark the clue with the context type of that rule. \n",
    "\n",
    "### Negation example:\n",
    "\n",
    "Let's use the above rule as the example:\n",
    "\n",
    "<img src=\"img/context.png\" alt=\"visualize negation\" style=\"width:290px;\"/>"
   ]
  },
  {
   "cell_type": "markdown",
   "metadata": {},
   "source": [
    "# Play with pyConText"
   ]
  },
  {
   "cell_type": "code",
   "execution_count": 1,
   "metadata": {},
   "outputs": [
    {
     "name": "stderr",
     "output_type": "stream",
     "text": [
      "/home/brokenjade/Documents/PycharmProjects/bmi_lab/lab4/itemData.py:29: YAMLLoadWarning: calling yaml.load_all() without Loader=... is deprecated, as the default Loader is unsafe. Please read https://msg.pyyaml.org/load for full details.\n",
      "  context_items =  [contextItem((d[\"Lex\"],\n"
     ]
    }
   ],
   "source": [
    "import pyConTextNLP.pyConText as pyConText\n",
    "# itemData has been rewritten, so that it can take relative local path, where you can redirect it to your customized yml files later\n",
    "import itemData\n",
    "# The following code is not included in the original pyConText, make sure you set it up correctly when you reuse it somewhere else.\n",
    "# ---Need to copy visual.py and tmp directory.\n",
    "from visual import Vis, view_pycontext_output\n",
    "modifiers=itemData.get_items('https://raw.githubusercontent.com/chapmanbe/pyConTextNLP/master/KB/pneumonia_modifiers.yml')\n",
    "targets = itemData.get_items(\"https://raw.githubusercontent.com/chapmanbe/pyConTextNLP/master/KB/pneumonia_targets.yml\")"
   ]
  },
  {
   "cell_type": "markdown",
   "metadata": {},
   "source": [
    "## Define pyContext markup functions\n",
    "The function *markup_sentence* is directly from the example on [pyConTextNLP](https://github.com/chapmanbe/pyConTextNLP/blob/master/notebooks/MultiSentenceDocuments.ipynb)"
   ]
  },
  {
   "cell_type": "code",
   "execution_count": 32,
   "metadata": {},
   "outputs": [],
   "source": [
    "def markup_sentence(s, modifiers, targets, prune_inactive=True):\n",
    "    \"\"\"\n",
    "    \"\"\"\n",
    "    markup = pyConText.ConTextMarkup()\n",
    "    markup.setRawText(s)\n",
    "    markup.cleanText()\n",
    "    markup.markItems(modifiers, mode=\"modifier\")\n",
    "    markup.markItems(targets, mode=\"target\")\n",
    "    markup.pruneMarks()\n",
    "    markup.dropMarks('Exclusion')\n",
    "    # apply modifiers to any targets within the modifiers scope\n",
    "    markup.applyModifiers()\n",
    "    markup.pruneSelfModifyingRelationships()\n",
    "    if prune_inactive:\n",
    "        markup.dropInactiveModifiers()\n",
    "    return markup"
   ]
  },
  {
   "cell_type": "markdown",
   "metadata": {},
   "source": [
    "The function *markup_doc* is a simplified document markup function, where you need to replace with NLTK's sentence splitter later."
   ]
  },
  {
   "cell_type": "code",
   "execution_count": 17,
   "metadata": {},
   "outputs": [],
   "source": [
    "def markup_doc(doc_text:str):\n",
    "    rslts=[]\n",
    "    context = pyConText.ConTextDocument()\n",
    "    for s in doc_text.split('.'):\n",
    "        m = markup_sentence(s, modifiers=modifiers, targets=targets)\n",
    "        context.addMarkup(m)\n",
    "    return context"
   ]
  },
  {
   "cell_type": "markdown",
   "metadata": {},
   "source": [
    "Now process an example document."
   ]
  },
  {
   "cell_type": "code",
   "execution_count": 18,
   "metadata": {
    "scrolled": true
   },
   "outputs": [],
   "source": [
    "doc_text='No visible infiltrate. No evidence of pneumonia on X-ray.'"
   ]
  },
  {
   "cell_type": "code",
   "execution_count": 19,
   "metadata": {},
   "outputs": [],
   "source": [
    "context=markup_doc(doc_text)"
   ]
  },
  {
   "cell_type": "markdown",
   "metadata": {},
   "source": [
    "Let's visualize what have been marked up in the example above."
   ]
  },
  {
   "cell_type": "code",
   "execution_count": 20,
   "metadata": {},
   "outputs": [],
   "source": [
    "vis=Vis('https://raw.githubusercontent.com/chapmanbe/pyConTextNLP/master/KB/pneumonia_modifiers.yml')"
   ]
  },
  {
   "cell_type": "code",
   "execution_count": 21,
   "metadata": {
    "scrolled": true
   },
   "outputs": [
    {
     "data": {
      "text/html": [
       "\n",
       "\t\t\t      <iframe src = \"tmp/x.html\" frameborder=\"0\" width = \"850\" height = \"305\">\n",
       "\t\t\t         Sorry your browser does not support inline frames.\n",
       "\t\t\t      </iframe>"
      ],
      "text/plain": [
       "<IPython.core.display.HTML object>"
      ]
     },
     "metadata": {},
     "output_type": "display_data"
    }
   ],
   "source": [
    "view_pycontext_output(context,vis)"
   ]
  },
  {
   "cell_type": "markdown",
   "metadata": {},
   "source": [
    "# Customize your pyConText for temperature identification"
   ]
  },
  {
   "cell_type": "markdown",
   "metadata": {},
   "source": [
    "Now you need to customize your version of pyConText to identify temperature mentions in clinical notes. Think about the information model, which way will be easier to set up the targets and modifiers."
   ]
  },
  {
   "cell_type": "markdown",
   "metadata": {},
   "source": [
    "## create your targets.yml\n",
    "Create your targets.yml under the ['KB' directory](KB) following the example of:\n",
    "\n",
    "https://raw.githubusercontent.com/chapmanbe/pyConTextNLP/master/KB/pneumonia_targets.yml\n",
    "\n",
    "Make sure there isn't a leftover '---' at the end of your file."
   ]
  },
  {
   "cell_type": "code",
   "execution_count": 22,
   "metadata": {},
   "outputs": [],
   "source": [
    "# Test your file to see if it is correctly formated\n",
    "my_targets=itemData.get_items('KB/targets.yml')"
   ]
  },
  {
   "cell_type": "markdown",
   "metadata": {},
   "source": [
    "## create your modifiers.yml\n",
    "\n",
    "Create your modifiers.yml under the ['KB' directory](KB) following the example of:\n",
    "\n",
    "https://raw.githubusercontent.com/chapmanbe/pyConTextNLP/master/KB/pneumonia_modifiers.yml\n",
    "\n"
   ]
  },
  {
   "cell_type": "code",
   "execution_count": 23,
   "metadata": {},
   "outputs": [],
   "source": [
    "my_modifiers=itemData.get_items('KB/modifiers.yml')"
   ]
  },
  {
   "cell_type": "markdown",
   "metadata": {},
   "source": [
    "## Revise the *markup_doc* function\n",
    "You will want to use NLTK's sentence spliter instead of split on periods."
   ]
  },
  {
   "cell_type": "code",
   "execution_count": 24,
   "metadata": {},
   "outputs": [],
   "source": [
    "from nltk.tokenize import sent_tokenize\n",
    "def markup_doc(doc_text:str):\n",
    "    rslts=[]\n",
    "    context = pyConText.ConTextDocument()\n",
    "    for s in sent_tokenize(doc_text):\n",
    "        m = markup_sentence(s, modifiers=my_modifiers, targets=my_targets)\n",
    "        context.addMarkup(m)\n",
    "    return context\n",
    "vis=Vis('KB/modifiers.yml')"
   ]
  },
  {
   "cell_type": "markdown",
   "metadata": {},
   "source": [
    "## Test your rules\n",
    "Now test your new rules on the following test cases, see if they behave as expected."
   ]
  },
  {
   "cell_type": "markdown",
   "metadata": {},
   "source": [
    "### Test case 1"
   ]
  },
  {
   "cell_type": "code",
   "execution_count": 25,
   "metadata": {},
   "outputs": [
    {
     "data": {
      "text/html": [
       "\n",
       "\t\t\t      <iframe src = \"tmp/1.html\" frameborder=\"0\" width = \"850\" height = \"140\">\n",
       "\t\t\t         Sorry your browser does not support inline frames.\n",
       "\t\t\t      </iframe>"
      ],
      "text/plain": [
       "<IPython.core.display.HTML object>"
      ]
     },
     "metadata": {},
     "output_type": "display_data"
    }
   ],
   "source": [
    "doc_text='He had a temp up to 102.5 rectally.'\n",
    "context=markup_doc(doc_text)\n",
    "view_pycontext_output(context,vis,1)"
   ]
  },
  {
   "cell_type": "markdown",
   "metadata": {},
   "source": [
    "### Test case 2"
   ]
  },
  {
   "cell_type": "code",
   "execution_count": 26,
   "metadata": {},
   "outputs": [
    {
     "data": {
      "text/html": [
       "\n",
       "\t\t\t      <iframe src = \"tmp/2.html\" frameborder=\"0\" width = \"850\" height = \"140\">\n",
       "\t\t\t         Sorry your browser does not support inline frames.\n",
       "\t\t\t      </iframe>"
      ],
      "text/plain": [
       "<IPython.core.display.HTML object>"
      ]
     },
     "metadata": {},
     "output_type": "display_data"
    }
   ],
   "source": [
    "doc_text='Hct 36-39 and has been stable here. '\n",
    "context=markup_doc(doc_text)\n",
    "view_pycontext_output(context,vis,2)\n",
    "# no temperature mentions"
   ]
  },
  {
   "cell_type": "markdown",
   "metadata": {},
   "source": [
    "### Test case 3"
   ]
  },
  {
   "cell_type": "code",
   "execution_count": 27,
   "metadata": {
    "scrolled": true
   },
   "outputs": [
    {
     "data": {
      "text/html": [
       "\n",
       "\t\t\t      <iframe src = \"tmp/3.html\" frameborder=\"0\" width = \"850\" height = \"175\">\n",
       "\t\t\t         Sorry your browser does not support inline frames.\n",
       "\t\t\t      </iframe>"
      ],
      "text/plain": [
       "<IPython.core.display.HTML object>"
      ]
     },
     "metadata": {},
     "output_type": "display_data"
    }
   ],
   "source": [
    "doc_text='Vitals: 38.5 C BP 118/72 HR 103 R 40.'\n",
    "context=markup_doc(doc_text)\n",
    "view_pycontext_output(context,vis,3)\n",
    "# 38.5"
   ]
  },
  {
   "cell_type": "markdown",
   "metadata": {},
   "source": [
    "### Test case 4"
   ]
  },
  {
   "cell_type": "code",
   "execution_count": 28,
   "metadata": {},
   "outputs": [
    {
     "data": {
      "text/html": [
       "\n",
       "\t\t\t      <iframe src = \"tmp/4.html\" frameborder=\"0\" width = \"850\" height = \"140\">\n",
       "\t\t\t         Sorry your browser does not support inline frames.\n",
       "\t\t\t      </iframe>"
      ],
      "text/plain": [
       "<IPython.core.display.HTML object>"
      ]
     },
     "metadata": {},
     "output_type": "display_data"
    }
   ],
   "source": [
    "doc_text='Currently drop to 37.5 F.'\n",
    "context=markup_doc(doc_text)\n",
    "view_pycontext_output(context,vis,4)\n",
    "# 104.5"
   ]
  },
  {
   "cell_type": "markdown",
   "metadata": {},
   "source": [
    "### Test case 5"
   ]
  },
  {
   "cell_type": "code",
   "execution_count": 34,
   "metadata": {},
   "outputs": [
    {
     "data": {
      "text/html": [
       "\n",
       "\t\t\t      <iframe src = \"tmp/5.html\" frameborder=\"0\" width = \"850\" height = \"315\">\n",
       "\t\t\t         Sorry your browser does not support inline frames.\n",
       "\t\t\t      </iframe>"
      ],
      "text/plain": [
       "<IPython.core.display.HTML object>"
      ]
     },
     "metadata": {},
     "output_type": "display_data"
    }
   ],
   "source": [
    "doc_text='''vital signs \n",
    "were 52, 218/109, T:38 Celsius, O2 Sat 100% on 100% FiO2'''\n",
    "context=markup_doc(doc_text)\n",
    "view_pycontext_output(context,vis,5)\n",
    "# 38"
   ]
  },
  {
   "cell_type": "code",
   "execution_count": null,
   "metadata": {},
   "outputs": [],
   "source": []
  }
 ],
 "metadata": {
  "kernelspec": {
   "display_name": "Python 3",
   "language": "python",
   "name": "python3"
  },
  "language_info": {
   "codemirror_mode": {
    "name": "ipython",
    "version": 3
   },
   "file_extension": ".py",
   "mimetype": "text/x-python",
   "name": "python",
   "nbconvert_exporter": "python",
   "pygments_lexer": "ipython3",
   "version": "3.6.8"
  },
  "toc": {
   "base_numbering": 1,
   "nav_menu": {},
   "number_sections": true,
   "sideBar": true,
   "skip_h1_title": false,
   "title_cell": "Table of Contents",
   "title_sidebar": "Contents",
   "toc_cell": false,
   "toc_position": {},
   "toc_section_display": true,
   "toc_window_display": false
  }
 },
 "nbformat": 4,
 "nbformat_minor": 2
}
