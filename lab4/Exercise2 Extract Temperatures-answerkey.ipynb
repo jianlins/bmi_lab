{
 "cells": [
  {
   "cell_type": "markdown",
   "metadata": {},
   "source": [
    "# Extract the temperature values"
   ]
  },
  {
   "cell_type": "markdown",
   "metadata": {},
   "source": [
    "In the previous notebook, we learned how pyConText works and how to customize the rules.\n",
    "\n",
    "In this notebook, we will learn:\n",
    "* how to inspect the packages developed by other people. \n",
    "* how to use your code to extract the pyConText processed results."
   ]
  },
  {
   "cell_type": "markdown",
   "metadata": {},
   "source": [
    "## Inspect pyConText output\n",
    "On pyConText github project, there isn't sufficient documentation of pyConText's API. This is common in less popular packages, especially in research projects. To make use of it, we need to inspect the code closer, starting from the output."
   ]
  },
  {
   "cell_type": "code",
   "execution_count": 1,
   "metadata": {},
   "outputs": [],
   "source": [
    "import pyConTextNLP.pyConText as pyConText\n",
    "# itemData has been rewritten, so that it can take relative local path, where you can redirect it to your customized yml files later\n",
    "import itemData"
   ]
  },
  {
   "cell_type": "code",
   "execution_count": 2,
   "metadata": {},
   "outputs": [],
   "source": [
    "my_targets=itemData.get_items('KB/targets.yml')\n",
    "my_modifiers=itemData.get_items('KB/modifiers.yml')"
   ]
  },
  {
   "cell_type": "markdown",
   "metadata": {},
   "source": [
    "Copy over the functions: *markup_sentence* and *markup_doc* (your revised version) from previous notebook below. "
   ]
  },
  {
   "cell_type": "code",
   "execution_count": 3,
   "metadata": {},
   "outputs": [],
   "source": [
    "def markup_sentence(s, modifiers, targets, prune_inactive=True):\n",
    "    \"\"\"\n",
    "    \"\"\"\n",
    "    markup = pyConText.ConTextMarkup()\n",
    "    markup.setRawText(s)\n",
    "    markup.cleanText()\n",
    "    markup.markItems(modifiers, mode=\"modifier\")\n",
    "    markup.markItems(targets, mode=\"target\")\n",
    "#     drop this line below---it may cause unpredicted edge drop errors\n",
    "#     markup.pruneMarks()\n",
    "    markup.dropMarks('Exclusion')\n",
    "    # apply modifiers to any targets within the modifiers scope\n",
    "    markup.applyModifiers()\n",
    "    markup.pruneSelfModifyingRelationships()\n",
    "    if prune_inactive:\n",
    "        markup.dropInactiveModifiers()\n",
    "    return markup"
   ]
  },
  {
   "cell_type": "code",
   "execution_count": 4,
   "metadata": {},
   "outputs": [],
   "source": [
    "from nltk.tokenize import sent_tokenize\n",
    "def markup_doc(doc_text:str):\n",
    "    rslts=[]\n",
    "    context = pyConText.ConTextDocument()\n",
    "    for s in sent_tokenize(doc_text):\n",
    "        m = markup_sentence(s, modifiers=my_modifiers, targets=my_targets)\n",
    "        context.addMarkup(m)\n",
    "    return context\n"
   ]
  },
  {
   "cell_type": "markdown",
   "metadata": {},
   "source": [
    "Now process the same example below."
   ]
  },
  {
   "cell_type": "code",
   "execution_count": 5,
   "metadata": {},
   "outputs": [],
   "source": [
    "doc_text='''vital signs \n",
    "were 52, 218/109, T:38 Celsius, O2 Sat 100% on 100% FiO2'''"
   ]
  },
  {
   "cell_type": "code",
   "execution_count": 6,
   "metadata": {},
   "outputs": [],
   "source": [
    "context=markup_doc(doc_text)"
   ]
  },
  {
   "cell_type": "markdown",
   "metadata": {},
   "source": [
    "To find out what type of the output variable is, we use"
   ]
  },
  {
   "cell_type": "code",
   "execution_count": 7,
   "metadata": {},
   "outputs": [
    {
     "data": {
      "text/plain": [
       "pyConTextNLP.pyConText.ConTextDocument"
      ]
     },
     "execution_count": 7,
     "metadata": {},
     "output_type": "execute_result"
    }
   ],
   "source": [
    "type(context)"
   ]
  },
  {
   "cell_type": "markdown",
   "metadata": {},
   "source": [
    "This is a python class. Now we can go back to the source code to find what methods and variables are available in this class.\n",
    "\n",
    "https://github.com/chapmanbe/pyConTextNLP/blob/master/pyConTextNLP/pyConText.py"
   ]
  },
  {
   "cell_type": "markdown",
   "metadata": {},
   "source": [
    "Of course, you will find a lot of methods and variables. To find the one you need, you can:\n",
    "1. make your best guess to see which one likely can generate the data you want.\n",
    "2. try to find out if this class is used somewhere else, and learn how it is used.\n",
    "\n",
    "Hint for option 2: you can start from either [visual.py](visual.py) or https://github.com/chapmanbe/pyConTextNLP/blob/master/pyConTextNLP/display/html.py \n",
    "\n",
    "## Task 1: Read identified targets and modifiers\n",
    "\n",
    "Let's define a function *get_output*, which takes a ConTextDocument object as input, and output the targets and modifers.\n",
    "\n",
    "Make sure you preserve the linkage between the targets and corresponding modifiers. You can use any **data structure** (list, dictionary, etc.) you prefer to store the information.\n",
    "\n",
    "However, please consider the next step that you need to check each target to see if it is modified by a specific modifier, a proper data structure can speed up the process in task 2."
   ]
  },
  {
   "cell_type": "code",
   "execution_count": 25,
   "metadata": {},
   "outputs": [],
   "source": [
    "## your code goes here\n",
    "def get_output(context:pyConText.ConTextDocument)->dict:\n",
    "    output=dict()\n",
    "    dg=context.getDocumentGraph()\n",
    "#     print(dg)\n",
    "    for s_node, e_node in dg.edges(): \n",
    "        category=s_node.getCategory()[0]\n",
    "        if category not in output:\n",
    "            output[category]=set()\n",
    "        output[category].add(e_node)\n",
    "    return output"
   ]
  },
  {
   "cell_type": "code",
   "execution_count": 26,
   "metadata": {},
   "outputs": [
    {
     "data": {
      "text/plain": [
       "{'degree': {<id> 37120452511672786194331496608650436368 </id> <phrase> 38 </phrase> <category> ['number'] </category> },\n",
       " 'terminate': {<id> 37119049380914658572912714945289985808 </id> <phrase> T: </phrase> <category> ['degree'] </category> ,\n",
       "  <id> 37119184861072557964929999905445060368 </id> <phrase> T </phrase> <category> ['degree'] </category> ,\n",
       "  <id> 37118644525004210682147611935703768848 </id> <phrase> Celsius </phrase> <category> ['degree'] </category> }}"
      ]
     },
     "execution_count": 26,
     "metadata": {},
     "output_type": "execute_result"
    }
   ],
   "source": [
    "# Test your code:\n",
    "get_output(context)"
   ]
  },
  {
   "cell_type": "markdown",
   "metadata": {},
   "source": [
    "## Task 2: Extract the numeric value of identifed temperature\n",
    "\n",
    "Now you have the extracted the targets and modifiers, find out the temperature values. You need to complete a function that take in a document, and output a list of [float]. (https://docs.python.org/3/library/functions.html#float) In your future project, you can build features on this numeric values."
   ]
  },
  {
   "cell_type": "code",
   "execution_count": 27,
   "metadata": {},
   "outputs": [],
   "source": [
    "from typing import List\n",
    "def extract_temperature(doc_text:str)->List[float]:\n",
    "#  your code goes here    \n",
    "    context=markup_doc(doc_text)\n",
    "    output=get_output(context)\n",
    "    values=[float(v.getPhrase()) for v in output[\"degree\"]]\n",
    "    return values"
   ]
  },
  {
   "cell_type": "code",
   "execution_count": 28,
   "metadata": {},
   "outputs": [
    {
     "data": {
      "text/plain": [
       "[38.0]"
      ]
     },
     "execution_count": 28,
     "metadata": {},
     "output_type": "execute_result"
    }
   ],
   "source": [
    "### Test your code\n",
    "extract_temperature(doc_text)"
   ]
  },
  {
   "cell_type": "markdown",
   "metadata": {},
   "source": [
    "## In fact, you can write a much simpler code which process the two tasks above in one line\n",
    "This is optional."
   ]
  },
  {
   "cell_type": "code",
   "execution_count": 29,
   "metadata": {},
   "outputs": [],
   "source": [
    "from typing import List\n",
    "def extract_temperature2(doc_text:str)->List[float]:\n",
    "#  your code goes here   \n",
    "    return [float(v.getPhrase()) for v in set(k[1] for k in markup_doc(doc_text).getDocumentGraph().edges() if 'degree'==k[0].getCategory()[0])]"
   ]
  },
  {
   "cell_type": "code",
   "execution_count": 30,
   "metadata": {},
   "outputs": [
    {
     "data": {
      "text/plain": [
       "[38.0]"
      ]
     },
     "execution_count": 30,
     "metadata": {},
     "output_type": "execute_result"
    }
   ],
   "source": [
    "## test your code\n",
    "extract_temperature2(doc_text)"
   ]
  },
  {
   "cell_type": "markdown",
   "metadata": {},
   "source": [
    "## Now run your function over the corpus\n",
    "\n",
    "Execute your *extract_temperature* or *extract_temperature2* over the corpus (unzip the files). You should return a dictionary with document names as keys and list of extracted temperature values as the values."
   ]
  },
  {
   "cell_type": "code",
   "execution_count": 31,
   "metadata": {},
   "outputs": [
    {
     "data": {
      "text/plain": [
       "{'case_10_PULSE_OX.txt': [35.6, 36.4],\n",
       " 'case_11_SP02.txt': [37.6, 37.7],\n",
       " 'case_13_Saturation.txt': [35.8],\n",
       " 'case_14_Sat.txt': [96.8, 97.1],\n",
       " 'case_14_Saturation.txt': [],\n",
       " 'case_15_Sat.txt': [99.7, 37.6, 37.6],\n",
       " 'case_16_Sat.txt': [36.4, 36.4],\n",
       " 'case_16_Saturation.txt': [],\n",
       " 'case_17_PULSE_OX.txt': [37.8, 37.8, 95.7],\n",
       " 'case_17_Saturation.txt': [],\n",
       " 'case_18_SP02.txt': [38.1, 38.1],\n",
       " 'case_18_Sat.txt': [],\n",
       " 'case_18_Saturation.txt': [],\n",
       " 'case_19_PULSE_OX.txt': [36.6, 36.6],\n",
       " 'case_19_Sat.txt': [35.7, 36.4, 97.5],\n",
       " 'case_19_Saturation.txt': [],\n",
       " 'case_1_SP02.txt': [37.1, 36.8],\n",
       " 'case_1_Sat.txt': [],\n",
       " 'case_20_SP02.txt': [37.5, 37.3],\n",
       " 'case_20_Sat.txt': [],\n",
       " 'case_21_PULSE_OX.txt': [35.9, 35.9],\n",
       " 'case_22_SP02.txt': [98.0, 97.3, 38.1, 38.1],\n",
       " 'case_23_SP02.txt': [38.9, 99.5, 102.0, 38.9],\n",
       " 'case_23_Saturation.txt': [98.8],\n",
       " 'case_24_SP02.txt': [98.0, 37.0, 37.0],\n",
       " 'case_24_Sat.txt': [98.4],\n",
       " 'case_25_PULSE_OX.txt': [35.9, 35.9, 96.6, 35.9, 102.0, 35.9],\n",
       " 'case_25_SP02.txt': [101.7, 36.2, 98.8, 98.8, 101.7, 37.1, 101.7],\n",
       " 'case_27_Sat.txt': [],\n",
       " 'case_28_PULSE_OX.txt': [101.5, 38.1, 38.6],\n",
       " 'case_29_SP02.txt': [105.0, 37.1, 37.1, 36.7],\n",
       " 'case_2_SP02.txt': [36.8, 36.8],\n",
       " 'case_30_SP02.txt': [35.6, 35.6],\n",
       " 'case_32_Saturation.txt': [35.6, 96.1, 35.6],\n",
       " 'case_34_Saturation.txt': [39.0,\n",
       "  39.3,\n",
       "  37.5,\n",
       "  36.0,\n",
       "  101.0,\n",
       "  102.7,\n",
       "  38.5,\n",
       "  42.7,\n",
       "  42.9,\n",
       "  101.0,\n",
       "  36.0,\n",
       "  44.6,\n",
       "  102.0,\n",
       "  101.3,\n",
       "  100.0,\n",
       "  35.0],\n",
       " 'case_38_PULSE_OX.txt': [36.7, 36.7],\n",
       " 'case_3_Sat.txt': [94.1],\n",
       " 'case_3_Saturation.txt': [97.1, 96.8],\n",
       " 'case_41_PULSE_OX.txt': [36.2, 37.1, 98.8, 100.0],\n",
       " 'case_42_PULSE_OX.txt': [37.9, 98.3, 37.9, 100.0],\n",
       " 'case_44_PULSE_OX.txt': [98.4, 96.5, 36.6, 36.9],\n",
       " 'case_45_PULSE_OX.txt': [36.3, 38.0, 39.4, 36.2],\n",
       " 'case_46_PULSE_OX.txt': [98.4, 37.0, 37.0],\n",
       " 'case_4_SP02.txt': [106.0, 108.0, 37.7, 37.3],\n",
       " 'case_4_Saturation.txt': [36.4, 36.4],\n",
       " 'case_50_PULSE_OX.txt': [37.9, 37.9],\n",
       " 'case_53_PULSE_OX.txt': [35.6, 100.0, 98.4, 35.6],\n",
       " 'case_57_PULSE_OX.txt': [],\n",
       " 'case_58_Saturation.txt': [],\n",
       " 'case_5_SP02.txt': [37.5, 37.3],\n",
       " 'case_5_Sat.txt': [36.1, 35.9],\n",
       " 'case_60_Saturation.txt': [],\n",
       " 'case_65_Saturation.txt': [],\n",
       " 'case_6_SP02.txt': [102.4, 37.1, 39.1],\n",
       " 'case_6_Sat.txt': [],\n",
       " 'case_6_Saturation.txt': [],\n",
       " 'case_74_Saturation.txt': [],\n",
       " 'case_7_Sat.txt': [98.3],\n",
       " 'case_83_Saturation.txt': [],\n",
       " 'case_8_SP02.txt': [37.6, 37.6]}"
      ]
     },
     "execution_count": 31,
     "metadata": {},
     "output_type": "execute_result"
    }
   ],
   "source": [
    "# your code goes here\n",
    "from pathlib import Path\n",
    "{f.name: extract_temperature2(f.read_text()) for f in Path('data').glob('*.txt')}"
   ]
  },
  {
   "cell_type": "markdown",
   "metadata": {},
   "source": [
    "['data/case_60_Saturation.txt'](data/case_42_PULSE_OX.txt)"
   ]
  },
  {
   "cell_type": "code",
   "execution_count": 15,
   "metadata": {},
   "outputs": [],
   "source": [
    "from visual import Vis, view_pycontext_output"
   ]
  },
  {
   "cell_type": "code",
   "execution_count": 16,
   "metadata": {},
   "outputs": [],
   "source": [
    "vis=Vis('KB/modifiers.yml')"
   ]
  },
  {
   "cell_type": "code",
   "execution_count": 40,
   "metadata": {
    "scrolled": true
   },
   "outputs": [
    {
     "data": {
      "text/html": [
       "\n",
       "\t\t\t      <iframe src = \"tmp/x.html\" frameborder=\"0\" width = \"850\" height = \"895\">\n",
       "\t\t\t         Sorry your browser does not support inline frames.\n",
       "\t\t\t      </iframe>"
      ],
      "text/plain": [
       "<IPython.core.display.HTML object>"
      ]
     },
     "metadata": {},
     "output_type": "execute_result"
    }
   ],
   "source": [
    "my_modifiers=itemData.get_items('KB/modifiers.yml')\n",
    "view_pycontext_output(markup_doc(Path('data/case_10_PULSE_OX.txt').read_text()),vis)"
   ]
  },
  {
   "cell_type": "code",
   "execution_count": null,
   "metadata": {},
   "outputs": [],
   "source": []
  }
 ],
 "metadata": {
  "kernelspec": {
   "display_name": "Python 3",
   "language": "python",
   "name": "python3"
  },
  "language_info": {
   "codemirror_mode": {
    "name": "ipython",
    "version": 3
   },
   "file_extension": ".py",
   "mimetype": "text/x-python",
   "name": "python",
   "nbconvert_exporter": "python",
   "pygments_lexer": "ipython3",
   "version": "3.5.5"
  },
  "toc": {
   "base_numbering": 1.0,
   "nav_menu": {},
   "number_sections": true,
   "sideBar": true,
   "skip_h1_title": false,
   "title_cell": "Table of Contents",
   "title_sidebar": "Contents",
   "toc_cell": false,
   "toc_position": {
    "height": "calc(100% - 180px)",
    "left": "10px",
    "top": "150px",
    "width": "384px"
   },
   "toc_section_display": true,
   "toc_window_display": true
  }
 },
 "nbformat": 4,
 "nbformat_minor": 2
}
